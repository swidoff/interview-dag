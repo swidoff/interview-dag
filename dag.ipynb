{
 "cells": [
  {
   "cell_type": "markdown",
   "metadata": {},
   "source": [
    "# Concurrent Dependency Graph\n",
    "\n",
    "![DAG1](dag1.png)\n",
    "![DAG2](dag2.png)"
   ]
  },
  {
   "cell_type": "markdown",
   "metadata": {},
   "source": [
    "## Details\n",
    "\n",
    "* Nodes are tasks to be executed\n",
    "* Edges are dependencies between tasks.\n",
    "\n",
    "\n",
    "## Requirements\n",
    "\n",
    "* Tasks must execute in dependency order \n",
    "     * A must complete before B begins and B\n",
    "     * C and D must complete before E begins\n",
    "\n",
    "\n",
    "* Tasks should execute concurrently when possible \n",
    "     * After 1 completes, 2 and 3 can execute concurrently\n",
    "     * After 2 completes, 4 and 5 can execute concurrently (even if 3 hasn’t completed)\n",
    "\n",
    "## Problem\n",
    "\n",
    "Implement the following class:"
   ]
  },
  {
   "cell_type": "code",
   "execution_count": 30,
   "metadata": {},
   "outputs": [],
   "source": [
    "from typing import Set, Dict\n",
    "from collections import defaultdict\n",
    "\n",
    "class DependencyIterator(object):\n",
    "    def __init__(self, dependencies: Dict[str, Set[str]]):\n",
    "        \"\"\"Initializes the dependency graph from a dict that maps each task to \n",
    "        its set of dependencies.\"\"\"\n",
    "        pass\n",
    "            \n",
    "    def next(self) -> Set[str]:\n",
    "        \"\"\"Returns all tasks that have no incomplete dependencies and have not \n",
    "        previously been returned by next() or the empty set if no such tasks exist.\"\"\"\n",
    "        pass\n",
    "    \n",
    "    def complete(self, task: str):\n",
    "        \"\"\"Marks the task as complete.\"\"\"\n",
    "        pass\n",
    "        \n",
    "    def done(self) -> bool:\n",
    "        \"\"\"Returns true when all tasks have completed.\"\"\"\n",
    "        pass"
   ]
  },
  {
   "cell_type": "code",
   "execution_count": 31,
   "metadata": {},
   "outputs": [],
   "source": [
    "def make_iterator():\n",
    "    return DependencyIterator({\n",
    "        \"A\": set(),\n",
    "        \"B\": {\"A\"},\n",
    "        \"C\": {\"B\"},\n",
    "        \"D\": {\"B\", \"G\"},\n",
    "        \"E\": {\"B\", \"C\", \"D\"},\n",
    "        \"F\": {\"E\"},\n",
    "        \"G\": set(),\n",
    "    })"
   ]
  },
  {
   "cell_type": "code",
   "execution_count": 32,
   "metadata": {},
   "outputs": [],
   "source": [
    "dag = make_iterator()\n",
    "assert dag.next() == {\"A\", \"G\"}\n",
    "assert dag.next() == set()\n",
    "assert not dag.done()\n",
    "\n",
    "dag.complete(\"A\")\n",
    "assert dag.next() == {\"B\"}\n",
    "assert not dag.done()\n",
    "\n",
    "dag.complete(\"B\")\n",
    "assert dag.next() == {\"C\"}\n",
    "assert not dag.done()\n",
    "\n",
    "dag.complete(\"G\")\n",
    "assert dag.next() == {\"D\"}\n",
    "assert not dag.done()\n",
    "\n",
    "dag.complete(\"C\")\n",
    "assert dag.next() == set()\n",
    "assert not dag.done()\n",
    "\n",
    "dag.complete(\"D\")\n",
    "assert dag.next() == {\"E\"}\n",
    "assert not dag.done()\n",
    "\n",
    "dag.complete(\"E\")\n",
    "assert dag.next() == {\"F\"}\n",
    "assert not dag.done()\n",
    "\n",
    "dag.complete(\"F\")\n",
    "assert dag.next() == set()\n",
    "assert dag.done()"
   ]
  },
  {
   "cell_type": "markdown",
   "metadata": {},
   "source": [
    "## Bonus (time permitting)"
   ]
  },
  {
   "cell_type": "code",
   "execution_count": null,
   "metadata": {},
   "outputs": [],
   "source": [
    "import time\n",
    "import random\n",
    "import concurrent.futures\n",
    "import threading\n",
    "\n",
    "def execute_task(task):\n",
    "    seconds = random.randint(1, 5)\n",
    "    print(f\"{threading.current_thread().name} {task}: Begin. Waiting {seconds} seconds.\")\n",
    "    time.sleep(seconds)\n",
    "    print(f\"{threading.current_thread().name} {task}: End\")\n",
    "    return task\n",
    "\n",
    "\n",
    "def execute_iterator(iterator: DependencyIterator, max_workers: int = 2):\n",
    "    \"\"\"\n",
    "    Uses a concurrent.futures.ThreadPoolExecutor to call execute_task for each task in the dependency graph with as much \n",
    "    concurrency as possible while still obeying the dependencies.\n",
    "    \"\"\"\n",
    "    pass"
   ]
  },
  {
   "cell_type": "code",
   "execution_count": null,
   "outputs": [],
   "source": [
    "execute_iterator(make_iterator())"
   ],
   "metadata": {
    "collapsed": false,
    "pycharm": {
     "name": "#%%\n"
    }
   }
  },
  {
   "cell_type": "code",
   "execution_count": null,
   "metadata": {},
   "outputs": [],
   "source": []
  },
  {
   "cell_type": "code",
   "execution_count": null,
   "metadata": {},
   "outputs": [],
   "source": []
  }
 ],
 "metadata": {
  "kernelspec": {
   "display_name": "Python 3",
   "language": "python",
   "name": "python3"
  },
  "language_info": {
   "codemirror_mode": {
    "name": "ipython",
    "version": 3
   },
   "file_extension": ".py",
   "mimetype": "text/x-python",
   "name": "python",
   "nbconvert_exporter": "python",
   "pygments_lexer": "ipython3",
   "version": "3.8.0"
  },
  "pycharm": {
   "stem_cell": {
    "cell_type": "raw",
    "source": [],
    "metadata": {
     "collapsed": false
    }
   }
  }
 },
 "nbformat": 4,
 "nbformat_minor": 4
}