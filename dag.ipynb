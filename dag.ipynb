{
 "cells": [
  {
   "cell_type": "markdown",
   "metadata": {},
   "source": [
    "# Concurrent Dependency Graph\n",
    "\n",
    "![DAG1](dag1.png)\n",
    "![DAG2](dag2.png)"
   ]
  },
  {
   "cell_type": "markdown",
   "metadata": {},
   "source": [
    "## Details\n",
    "\n",
    "* Nodes are tasks to be executed\n",
    "* Edges are dependencies between tasks.\n",
    "\n",
    "\n",
    "## Requirements\n",
    "\n",
    "* Tasks must execute in dependency order \n",
    "     * A must complete before B begins and B\n",
    "     * C and D must complete before E begins\n",
    "\n",
    "\n",
    "* Tasks should execute concurrently when possible \n",
    "     * After 1 completes, 2 and 3 can execute concurrently\n",
    "     * After 2 completes, 4 and 5 can execute concurrently (even if 3 hasn’t completed)\n",
    "\n",
    "## Problem\n",
    "\n",
    "Implement the following class:"
   ]
  },
  {
   "cell_type": "code",
   "execution_count": null,
   "metadata": {},
   "outputs": [],
   "source": [
    "from typing import Set, Dict, Any\n",
    "\n",
    "class TaskGraph(object):\n",
    "    def __init__(self, dependencies: Dict[Any, Set[Any]]):\n",
    "        \"\"\"Initializes the dependency graph from a dict of each task to its set of dependencies.\"\"\"\n",
    "        pass\n",
    "        \n",
    "    def executable_tasks(self) -> Set[Any]:\n",
    "        \"\"\"Returns the set of all tasks that can execute immediately because they have no dependencies.\"\"\"\n",
    "        pass\n",
    "        \n",
    "    def task_executed(self, task: Any) -> Set[Any]:\n",
    "        \"\"\"Marks a task as executed and returns any _new_ executable tasks in a set.\"\"\"\n",
    "        pass\n",
    "        \n",
    "    def all_tasks_executed(self) -> bool:\n",
    "        \"\"\"Returns true when all tasks have executed.\"\"\"\n",
    "        pass"
   ]
  },
  {
   "cell_type": "code",
   "execution_count": null,
   "metadata": {},
   "outputs": [],
   "source": [
    "def make_graph():\n",
    "    return TaskGraph({\n",
    "        \"A\": set(),\n",
    "        \"B\": {\"A\"},\n",
    "        \"C\": {\"B\"},\n",
    "        \"D\": {\"B\", \"G\"},\n",
    "        \"E\": {\"B\", \"C\", \"D\"},\n",
    "        \"F\": {\"E\"},\n",
    "        \"G\": set(),\n",
    "    })"
   ]
  },
  {
   "cell_type": "code",
   "execution_count": null,
   "metadata": {},
   "outputs": [],
   "source": [
    "dag = make_graph()\n",
    "assert dag.executable_tasks() == {\"A\", \"G\"}\n",
    "\n",
    "assert dag.task_executed(\"A\") == {\"B\"}\n",
    "assert not dag.all_tasks_executed()\n",
    "assert dag.executable_tasks() == {\"B\", \"G\"}\n",
    "\n",
    "assert dag.task_executed(\"B\") == {\"C\"}\n",
    "assert not dag.all_tasks_executed()\n",
    "assert dag.executable_tasks() == {\"C\", \"G\"}\n",
    "\n",
    "assert dag.task_executed(\"G\") == {\"D\"}\n",
    "assert not dag.all_tasks_executed()\n",
    "assert dag.executable_tasks() == {\"C\", \"D\"}\n",
    "\n",
    "assert dag.task_executed(\"C\") == set()\n",
    "assert not dag.all_tasks_executed()\n",
    "assert dag.executable_tasks() == {\"D\"}\n",
    "\n",
    "assert dag.task_executed(\"D\") == {\"E\"}\n",
    "assert not dag.all_tasks_executed()\n",
    "assert dag.executable_tasks() == {\"E\"}\n",
    "\n",
    "assert dag.task_executed(\"E\") == {\"F\"}\n",
    "assert not dag.all_tasks_executed()\n",
    "assert dag.executable_tasks() == {\"F\"}\n",
    "\n",
    "assert dag.task_executed(\"F\") == set()\n",
    "assert dag.all_tasks_executed()\n",
    "assert dag.executable_tasks() == set()"
   ]
  },
  {
   "cell_type": "markdown",
   "metadata": {},
   "source": [
    "## Bonus (time permitting)"
   ]
  },
  {
   "cell_type": "code",
   "execution_count": null,
   "metadata": {},
   "outputs": [],
   "source": [
    "import time\n",
    "import random\n",
    "import concurrent.futures\n",
    "import threading\n",
    "\n",
    "def execute_task(task):\n",
    "    seconds = random.randint(1, 5)\n",
    "    print(f\"{threading.current_thread().name} {task}: Begin. Waiting {seconds} seconds.\")\n",
    "    time.sleep(seconds)\n",
    "    print(f\"{threading.current_thread().name} {task}: End\")\n",
    "    return task\n",
    "\n",
    "\n",
    "def execute_dag(graph: TaskGraph, max_workers: int = 2):\n",
    "    \"\"\"\n",
    "    Uses a concurrent.futures.ThreadPoolExecutor to call execute_task for each task in the dependency graph with as much \n",
    "    concurrency as possible while still obeying the dependencies.\n",
    "    \"\"\"\n",
    "    pass"
   ]
  },
  {
   "cell_type": "code",
   "execution_count": null,
   "metadata": {},
   "outputs": [],
   "source": []
  }
 ],
 "metadata": {
  "kernelspec": {
   "display_name": "Python 3",
   "language": "python",
   "name": "python3"
  },
  "language_info": {
   "codemirror_mode": {
    "name": "ipython",
    "version": 3
   },
   "file_extension": ".py",
   "mimetype": "text/x-python",
   "name": "python",
   "nbconvert_exporter": "python",
   "pygments_lexer": "ipython3",
   "version": "3.8.0"
  },
  "pycharm": {
   "stem_cell": {
    "cell_type": "raw",
    "source": [],
    "metadata": {
     "collapsed": false
    }
   }
  }
 },
 "nbformat": 4,
 "nbformat_minor": 4
}