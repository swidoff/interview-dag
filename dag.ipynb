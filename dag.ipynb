{
 "cells": [
  {
   "cell_type": "markdown",
   "metadata": {},
   "source": [
    "# Concurrent Dependency Graph\n",
    "\n",
    "![DAG1](dag1.png)\n",
    "![DAG2](dag2.png)"
   ]
  },
  {
   "cell_type": "markdown",
   "metadata": {},
   "source": [
    "## Details\n",
    "\n",
    "* Nodes are tasks to be executed\n",
    "* Edges are dependencies between tasks.\n",
    "\n",
    "\n",
    "## Requirements\n",
    "\n",
    "* Tasks must execute in dependency order \n",
    "     * A must complete before B begins and B\n",
    "     * C and D must complete before E begins\n",
    "\n",
    "\n",
    "* Tasks should execute concurrently when possible \n",
    "     * After 1 completes, 2 and 3 can execute concurrently\n",
    "     * After 2 completes, 4 and 5 can execute concurrently (even if 3 hasn’t completed)\n",
    "\n",
    "## Problem\n",
    "\n",
    "Implement the following class:"
   ]
  },
  {
   "cell_type": "code",
   "execution_count": 11,
   "metadata": {},
   "outputs": [],
   "source": [
    "from typing import Set, Dict, Any\n",
    "\n",
    "class DependencyGraph(object):\n",
    "    def __init__(self, dependencies: Dict[Any, Set[Any]]):\n",
    "        \"\"\"Initializes the dependency graph from a dict of each task to its set of dependencies.\"\"\"\n",
    "        pass\n",
    "        \n",
    "    def free_tasks(self) -> Set[Any]:\n",
    "        \"\"\"Returns the set of all tasks that can execute immediately because they have no dependencies.\"\"\"\n",
    "        pass\n",
    "        \n",
    "    def task_complete(self, task: Any) -> Set[Any]:\n",
    "        \"\"\"Marks a task as having completed and returns any new free tasks in a set.\"\"\"\n",
    "        pass\n",
    "        \n",
    "    def is_complete(self) -> bool:\n",
    "        \"\"\"Returns true when all tasks have completed.\"\"\"\n",
    "        pass"
   ]
  },
  {
   "cell_type": "code",
   "execution_count": 6,
   "metadata": {},
   "outputs": [],
   "source": [
    "def make_graph():\n",
    "    return DependencyGraph({\n",
    "        \"A\": set(),\n",
    "        \"B\": {\"A\"},\n",
    "        \"C\": {\"B\"},\n",
    "        \"D\": {\"B\", \"G\"},\n",
    "        \"E\": {\"B\", \"C\", \"D\"},\n",
    "        \"F\": {\"E\"},\n",
    "        \"G\": set(),\n",
    "    })"
   ]
  },
  {
   "cell_type": "code",
   "execution_count": null,
   "metadata": {},
   "outputs": [],
   "source": [
    "dag = make_graph()\n",
    "assert dag.free_tasks() == {\"A\", \"G\"}\n",
    "\n",
    "assert dag.task_complete(\"A\") == {\"B\"}\n",
    "assert not dag.is_complete()\n",
    "assert dag.free_tasks() == {\"B\", \"G\"}\n",
    "\n",
    "assert dag.task_complete(\"B\") == {\"C\"}\n",
    "assert not dag.is_complete()\n",
    "assert dag.free_tasks() == {\"C\", \"G\"}\n",
    "\n",
    "assert dag.task_complete(\"G\") == {\"D\"}\n",
    "assert not dag.is_complete()\n",
    "assert dag.free_tasks() == {\"C\", \"D\"}\n",
    "\n",
    "assert dag.task_complete(\"C\") == set()\n",
    "assert not dag.is_complete()\n",
    "assert dag.free_tasks() == {\"D\"}\n",
    "\n",
    "assert dag.task_complete(\"D\") == {\"E\"}\n",
    "assert not dag.is_complete()\n",
    "assert dag.free_tasks() == {\"E\"}\n",
    "\n",
    "assert dag.task_complete(\"E\") == {\"F\"}\n",
    "assert not dag.is_complete()\n",
    "assert dag.free_tasks() == {\"F\"}\n",
    "\n",
    "assert dag.task_complete(\"F\") == set()\n",
    "assert dag.is_complete()\n",
    "assert dag.free_tasks() == set()"
   ]
  },
  {
   "cell_type": "markdown",
   "metadata": {},
   "source": [
    "## Bonus (time permitting)"
   ]
  },
  {
   "cell_type": "code",
   "execution_count": 10,
   "metadata": {},
   "outputs": [],
   "source": [
    "import time\n",
    "import random\n",
    "import concurrent.futures\n",
    "import threading\n",
    "\n",
    "def execute_task(task):\n",
    "    seconds = random.randint(1, 5)\n",
    "    print(f\"{threading.current_thread().name} {task}: Begin. Waiting {seconds} seconds.\")\n",
    "    time.sleep(seconds)\n",
    "    print(f\"{threading.current_thread().name} {task}: End\")\n",
    "    return task\n",
    "\n",
    "\n",
    "def execute_dag(graph: DependencyGraph, max_workers: int = 2):\n",
    "    \"\"\"\n",
    "    Uses a thread pool to call execute_task for each task in the dependency graph with as much \n",
    "    concurrent as possible while still obeying the dependencies.\n",
    "    \"\"\"\n",
    "    pass"
   ]
  },
  {
   "cell_type": "code",
   "execution_count": null,
   "metadata": {},
   "outputs": [],
   "source": []
  }
 ],
 "metadata": {
  "kernelspec": {
   "display_name": "Python 3",
   "language": "python",
   "name": "python3"
  },
  "language_info": {
   "name": ""
  }
 },
 "nbformat": 4,
 "nbformat_minor": 4
}
